{
 "cells": [
  {
   "cell_type": "markdown",
   "id": "c559d57b",
   "metadata": {},
   "source": [
    "# Exploring EHR Data for Hospital Care and Outcomes"
   ]
  },
  {
   "cell_type": "code",
   "execution_count": 44,
   "id": "1472ec98",
   "metadata": {},
   "outputs": [],
   "source": [
    "# Importing the required libraries\n",
    "import numpy as np\n",
    "import pandas as pd\n",
    "import matplotlib.pyplot as plt\n",
    "import seaborn as sns\n",
    "from sklearn.impute import SimpleImputer\n",
    "from datetime import date\n",
    "from scipy.stats import chi2_contingency"
   ]
  },
  {
   "cell_type": "markdown",
   "id": "a149e53e",
   "metadata": {},
   "source": [
    "## Basic Analysis and understanding of the data"
   ]
  },
  {
   "cell_type": "code",
   "execution_count": 3,
   "id": "44149aa3",
   "metadata": {},
   "outputs": [],
   "source": [
    "#Loading the datasets\n",
    "patients = pd.read_csv(r\"D:\\DSML class\\Real world data assignments\\Python\\EHR Capstone\\PATIENTS.csv\")\n",
    "admissions = pd.read_csv(r\"D:\\DSML class\\Real world data assignments\\Python\\EHR Capstone\\ADMISSIONS.csv\")\n",
    "cpt = pd.read_csv(r\"D:\\DSML class\\Real world data assignments\\Python\\EHR Capstone\\CPTEVENTS.csv\")\n",
    "icu = pd.read_csv(r\"D:\\DSML class\\Real world data assignments\\Python\\EHR Capstone\\ICUSTAYS.csv\")"
   ]
  },
  {
   "cell_type": "markdown",
   "id": "17be0f16",
   "metadata": {},
   "source": [
    "## Observation of the data"
   ]
  },
  {
   "cell_type": "code",
   "execution_count": 4,
   "id": "cc7bf5f2",
   "metadata": {},
   "outputs": [
    {
     "name": "stdout",
     "output_type": "stream",
     "text": [
      "\n",
      "First five rows of the Patients table\n"
     ]
    },
    {
     "data": {
      "text/html": [
       "<div>\n",
       "<style scoped>\n",
       "    .dataframe tbody tr th:only-of-type {\n",
       "        vertical-align: middle;\n",
       "    }\n",
       "\n",
       "    .dataframe tbody tr th {\n",
       "        vertical-align: top;\n",
       "    }\n",
       "\n",
       "    .dataframe thead th {\n",
       "        text-align: right;\n",
       "    }\n",
       "</style>\n",
       "<table border=\"1\" class=\"dataframe\">\n",
       "  <thead>\n",
       "    <tr style=\"text-align: right;\">\n",
       "      <th></th>\n",
       "      <th>row_id</th>\n",
       "      <th>subject_id</th>\n",
       "      <th>gender</th>\n",
       "      <th>dob</th>\n",
       "    </tr>\n",
       "  </thead>\n",
       "  <tbody>\n",
       "    <tr>\n",
       "      <th>0</th>\n",
       "      <td>9467</td>\n",
       "      <td>10006</td>\n",
       "      <td>F</td>\n",
       "      <td>2094-03-05 0:00:00</td>\n",
       "    </tr>\n",
       "    <tr>\n",
       "      <th>1</th>\n",
       "      <td>9472</td>\n",
       "      <td>10011</td>\n",
       "      <td>F</td>\n",
       "      <td>2090-06-05 0:00:00</td>\n",
       "    </tr>\n",
       "    <tr>\n",
       "      <th>2</th>\n",
       "      <td>9474</td>\n",
       "      <td>10013</td>\n",
       "      <td>F</td>\n",
       "      <td>2038-09-03 0:00:00</td>\n",
       "    </tr>\n",
       "    <tr>\n",
       "      <th>3</th>\n",
       "      <td>9478</td>\n",
       "      <td>10017</td>\n",
       "      <td>F</td>\n",
       "      <td>2075-09-21 0:00:00</td>\n",
       "    </tr>\n",
       "    <tr>\n",
       "      <th>4</th>\n",
       "      <td>9479</td>\n",
       "      <td>10019</td>\n",
       "      <td>M</td>\n",
       "      <td>2114-06-20 0:00:00</td>\n",
       "    </tr>\n",
       "  </tbody>\n",
       "</table>\n",
       "</div>"
      ],
      "text/plain": [
       "   row_id  subject_id gender                 dob\n",
       "0    9467       10006      F  2094-03-05 0:00:00\n",
       "1    9472       10011      F  2090-06-05 0:00:00\n",
       "2    9474       10013      F  2038-09-03 0:00:00\n",
       "3    9478       10017      F  2075-09-21 0:00:00\n",
       "4    9479       10019      M  2114-06-20 0:00:00"
      ]
     },
     "execution_count": 4,
     "metadata": {},
     "output_type": "execute_result"
    }
   ],
   "source": [
    "print('\\nFirst five rows of the Patients table')\n",
    "patients.head(5)"
   ]
  },
  {
   "cell_type": "code",
   "execution_count": 5,
   "id": "77ee2e33",
   "metadata": {},
   "outputs": [
    {
     "data": {
      "text/plain": [
       "(100, 4)"
      ]
     },
     "execution_count": 5,
     "metadata": {},
     "output_type": "execute_result"
    }
   ],
   "source": [
    "patients.shape"
   ]
  },
  {
   "cell_type": "code",
   "execution_count": 6,
   "id": "cb13e9e8",
   "metadata": {},
   "outputs": [
    {
     "name": "stdout",
     "output_type": "stream",
     "text": [
      "\n",
      "First five rows of the Admissions table\n"
     ]
    },
    {
     "data": {
      "text/html": [
       "<div>\n",
       "<style scoped>\n",
       "    .dataframe tbody tr th:only-of-type {\n",
       "        vertical-align: middle;\n",
       "    }\n",
       "\n",
       "    .dataframe tbody tr th {\n",
       "        vertical-align: top;\n",
       "    }\n",
       "\n",
       "    .dataframe thead th {\n",
       "        text-align: right;\n",
       "    }\n",
       "</style>\n",
       "<table border=\"1\" class=\"dataframe\">\n",
       "  <thead>\n",
       "    <tr style=\"text-align: right;\">\n",
       "      <th></th>\n",
       "      <th>row_id</th>\n",
       "      <th>subject_id</th>\n",
       "      <th>hadm_id</th>\n",
       "      <th>admittime</th>\n",
       "      <th>dischtime</th>\n",
       "      <th>deathtime</th>\n",
       "      <th>admission_type</th>\n",
       "      <th>admission_location</th>\n",
       "      <th>insurance</th>\n",
       "      <th>language</th>\n",
       "      <th>religion</th>\n",
       "      <th>marital_status</th>\n",
       "      <th>ethnicity</th>\n",
       "      <th>edregtime</th>\n",
       "      <th>edouttime</th>\n",
       "      <th>diagnosis</th>\n",
       "      <th>hospital_expire_flag</th>\n",
       "    </tr>\n",
       "  </thead>\n",
       "  <tbody>\n",
       "    <tr>\n",
       "      <th>0</th>\n",
       "      <td>12258</td>\n",
       "      <td>10006</td>\n",
       "      <td>142345</td>\n",
       "      <td>2164-10-23 21:09:00</td>\n",
       "      <td>2164-11-01 17:15:00</td>\n",
       "      <td>NaN</td>\n",
       "      <td>EMERGENCY</td>\n",
       "      <td>EMERGENCY ROOM ADMIT</td>\n",
       "      <td>Medicare</td>\n",
       "      <td>NaN</td>\n",
       "      <td>CATHOLIC</td>\n",
       "      <td>SEPARATED</td>\n",
       "      <td>BLACK/AFRICAN AMERICAN</td>\n",
       "      <td>2164-10-23 16:43:00</td>\n",
       "      <td>2164-10-23 23:00:00</td>\n",
       "      <td>SEPSIS</td>\n",
       "      <td>0</td>\n",
       "    </tr>\n",
       "    <tr>\n",
       "      <th>1</th>\n",
       "      <td>12263</td>\n",
       "      <td>10011</td>\n",
       "      <td>105331</td>\n",
       "      <td>2126-08-14 22:32:00</td>\n",
       "      <td>2126-08-28 18:59:00</td>\n",
       "      <td>2126-08-28 18:59:00</td>\n",
       "      <td>EMERGENCY</td>\n",
       "      <td>TRANSFER FROM HOSP/EXTRAM</td>\n",
       "      <td>Private</td>\n",
       "      <td>NaN</td>\n",
       "      <td>CATHOLIC</td>\n",
       "      <td>SINGLE</td>\n",
       "      <td>UNKNOWN/NOT SPECIFIED</td>\n",
       "      <td>NaN</td>\n",
       "      <td>NaN</td>\n",
       "      <td>HEPATITIS B</td>\n",
       "      <td>1</td>\n",
       "    </tr>\n",
       "    <tr>\n",
       "      <th>2</th>\n",
       "      <td>12265</td>\n",
       "      <td>10013</td>\n",
       "      <td>165520</td>\n",
       "      <td>2125-10-04 23:36:00</td>\n",
       "      <td>2125-10-07 15:13:00</td>\n",
       "      <td>2125-10-07 15:13:00</td>\n",
       "      <td>EMERGENCY</td>\n",
       "      <td>TRANSFER FROM HOSP/EXTRAM</td>\n",
       "      <td>Medicare</td>\n",
       "      <td>NaN</td>\n",
       "      <td>CATHOLIC</td>\n",
       "      <td>NaN</td>\n",
       "      <td>UNKNOWN/NOT SPECIFIED</td>\n",
       "      <td>NaN</td>\n",
       "      <td>NaN</td>\n",
       "      <td>SEPSIS</td>\n",
       "      <td>1</td>\n",
       "    </tr>\n",
       "    <tr>\n",
       "      <th>3</th>\n",
       "      <td>12269</td>\n",
       "      <td>10017</td>\n",
       "      <td>199207</td>\n",
       "      <td>2149-05-26 17:19:00</td>\n",
       "      <td>2149-06-03 18:42:00</td>\n",
       "      <td>NaN</td>\n",
       "      <td>EMERGENCY</td>\n",
       "      <td>EMERGENCY ROOM ADMIT</td>\n",
       "      <td>Medicare</td>\n",
       "      <td>NaN</td>\n",
       "      <td>CATHOLIC</td>\n",
       "      <td>DIVORCED</td>\n",
       "      <td>WHITE</td>\n",
       "      <td>2149-05-26 12:08:00</td>\n",
       "      <td>2149-05-26 19:45:00</td>\n",
       "      <td>HUMERAL FRACTURE</td>\n",
       "      <td>0</td>\n",
       "    </tr>\n",
       "    <tr>\n",
       "      <th>4</th>\n",
       "      <td>12270</td>\n",
       "      <td>10019</td>\n",
       "      <td>177759</td>\n",
       "      <td>2163-05-14 20:43:00</td>\n",
       "      <td>2163-05-15 12:00:00</td>\n",
       "      <td>2163-05-15 12:00:00</td>\n",
       "      <td>EMERGENCY</td>\n",
       "      <td>TRANSFER FROM HOSP/EXTRAM</td>\n",
       "      <td>Medicare</td>\n",
       "      <td>NaN</td>\n",
       "      <td>CATHOLIC</td>\n",
       "      <td>DIVORCED</td>\n",
       "      <td>WHITE</td>\n",
       "      <td>NaN</td>\n",
       "      <td>NaN</td>\n",
       "      <td>ALCOHOLIC HEPATITIS</td>\n",
       "      <td>1</td>\n",
       "    </tr>\n",
       "  </tbody>\n",
       "</table>\n",
       "</div>"
      ],
      "text/plain": [
       "   row_id  subject_id  hadm_id            admittime            dischtime  \\\n",
       "0   12258       10006   142345  2164-10-23 21:09:00  2164-11-01 17:15:00   \n",
       "1   12263       10011   105331  2126-08-14 22:32:00  2126-08-28 18:59:00   \n",
       "2   12265       10013   165520  2125-10-04 23:36:00  2125-10-07 15:13:00   \n",
       "3   12269       10017   199207  2149-05-26 17:19:00  2149-06-03 18:42:00   \n",
       "4   12270       10019   177759  2163-05-14 20:43:00  2163-05-15 12:00:00   \n",
       "\n",
       "             deathtime admission_type         admission_location insurance  \\\n",
       "0                  NaN      EMERGENCY       EMERGENCY ROOM ADMIT  Medicare   \n",
       "1  2126-08-28 18:59:00      EMERGENCY  TRANSFER FROM HOSP/EXTRAM   Private   \n",
       "2  2125-10-07 15:13:00      EMERGENCY  TRANSFER FROM HOSP/EXTRAM  Medicare   \n",
       "3                  NaN      EMERGENCY       EMERGENCY ROOM ADMIT  Medicare   \n",
       "4  2163-05-15 12:00:00      EMERGENCY  TRANSFER FROM HOSP/EXTRAM  Medicare   \n",
       "\n",
       "  language  religion marital_status               ethnicity  \\\n",
       "0      NaN  CATHOLIC      SEPARATED  BLACK/AFRICAN AMERICAN   \n",
       "1      NaN  CATHOLIC         SINGLE   UNKNOWN/NOT SPECIFIED   \n",
       "2      NaN  CATHOLIC            NaN   UNKNOWN/NOT SPECIFIED   \n",
       "3      NaN  CATHOLIC       DIVORCED                   WHITE   \n",
       "4      NaN  CATHOLIC       DIVORCED                   WHITE   \n",
       "\n",
       "             edregtime            edouttime            diagnosis  \\\n",
       "0  2164-10-23 16:43:00  2164-10-23 23:00:00               SEPSIS   \n",
       "1                  NaN                  NaN          HEPATITIS B   \n",
       "2                  NaN                  NaN               SEPSIS   \n",
       "3  2149-05-26 12:08:00  2149-05-26 19:45:00     HUMERAL FRACTURE   \n",
       "4                  NaN                  NaN  ALCOHOLIC HEPATITIS   \n",
       "\n",
       "   hospital_expire_flag  \n",
       "0                     0  \n",
       "1                     1  \n",
       "2                     1  \n",
       "3                     0  \n",
       "4                     1  "
      ]
     },
     "execution_count": 6,
     "metadata": {},
     "output_type": "execute_result"
    }
   ],
   "source": [
    "print('\\nFirst five rows of the Admissions table')\n",
    "admissions.head(5)"
   ]
  },
  {
   "cell_type": "code",
   "execution_count": 7,
   "id": "4452f9d4",
   "metadata": {},
   "outputs": [
    {
     "data": {
      "text/plain": [
       "(129, 17)"
      ]
     },
     "execution_count": 7,
     "metadata": {},
     "output_type": "execute_result"
    }
   ],
   "source": [
    "admissions.shape"
   ]
  },
  {
   "cell_type": "code",
   "execution_count": 8,
   "id": "e7812477",
   "metadata": {},
   "outputs": [
    {
     "name": "stdout",
     "output_type": "stream",
     "text": [
      "\n",
      "First five rows of the CPT events table\n"
     ]
    },
    {
     "data": {
      "text/html": [
       "<div>\n",
       "<style scoped>\n",
       "    .dataframe tbody tr th:only-of-type {\n",
       "        vertical-align: middle;\n",
       "    }\n",
       "\n",
       "    .dataframe tbody tr th {\n",
       "        vertical-align: top;\n",
       "    }\n",
       "\n",
       "    .dataframe thead th {\n",
       "        text-align: right;\n",
       "    }\n",
       "</style>\n",
       "<table border=\"1\" class=\"dataframe\">\n",
       "  <thead>\n",
       "    <tr style=\"text-align: right;\">\n",
       "      <th></th>\n",
       "      <th>row_id</th>\n",
       "      <th>subject_id</th>\n",
       "      <th>hadm_id</th>\n",
       "      <th>costcenter</th>\n",
       "      <th>chartdate</th>\n",
       "      <th>cpt_cd</th>\n",
       "      <th>sectionheader</th>\n",
       "      <th>subsectionheader</th>\n",
       "      <th>description</th>\n",
       "    </tr>\n",
       "  </thead>\n",
       "  <tbody>\n",
       "    <tr>\n",
       "      <th>0</th>\n",
       "      <td>4615</td>\n",
       "      <td>10117</td>\n",
       "      <td>105150</td>\n",
       "      <td>ICU</td>\n",
       "      <td>NaN</td>\n",
       "      <td>99254</td>\n",
       "      <td>Evaluation and management</td>\n",
       "      <td>Consultations</td>\n",
       "      <td>NaN</td>\n",
       "    </tr>\n",
       "    <tr>\n",
       "      <th>1</th>\n",
       "      <td>4616</td>\n",
       "      <td>10117</td>\n",
       "      <td>105150</td>\n",
       "      <td>ICU</td>\n",
       "      <td>NaN</td>\n",
       "      <td>99231</td>\n",
       "      <td>Evaluation and management</td>\n",
       "      <td>Hospital inpatient services</td>\n",
       "      <td>NaN</td>\n",
       "    </tr>\n",
       "    <tr>\n",
       "      <th>2</th>\n",
       "      <td>4617</td>\n",
       "      <td>10117</td>\n",
       "      <td>105150</td>\n",
       "      <td>ICU</td>\n",
       "      <td>NaN</td>\n",
       "      <td>90935</td>\n",
       "      <td>Medicine</td>\n",
       "      <td>Dialysis</td>\n",
       "      <td>NaN</td>\n",
       "    </tr>\n",
       "    <tr>\n",
       "      <th>3</th>\n",
       "      <td>4618</td>\n",
       "      <td>10117</td>\n",
       "      <td>105150</td>\n",
       "      <td>ICU</td>\n",
       "      <td>NaN</td>\n",
       "      <td>99231</td>\n",
       "      <td>Evaluation and management</td>\n",
       "      <td>Hospital inpatient services</td>\n",
       "      <td>NaN</td>\n",
       "    </tr>\n",
       "    <tr>\n",
       "      <th>4</th>\n",
       "      <td>7753</td>\n",
       "      <td>10111</td>\n",
       "      <td>174739</td>\n",
       "      <td>ICU</td>\n",
       "      <td>NaN</td>\n",
       "      <td>99253</td>\n",
       "      <td>Evaluation and management</td>\n",
       "      <td>Consultations</td>\n",
       "      <td>NaN</td>\n",
       "    </tr>\n",
       "  </tbody>\n",
       "</table>\n",
       "</div>"
      ],
      "text/plain": [
       "   row_id  subject_id  hadm_id costcenter chartdate  cpt_cd  \\\n",
       "0    4615       10117   105150        ICU       NaN   99254   \n",
       "1    4616       10117   105150        ICU       NaN   99231   \n",
       "2    4617       10117   105150        ICU       NaN   90935   \n",
       "3    4618       10117   105150        ICU       NaN   99231   \n",
       "4    7753       10111   174739        ICU       NaN   99253   \n",
       "\n",
       "               sectionheader             subsectionheader description  \n",
       "0  Evaluation and management                Consultations         NaN  \n",
       "1  Evaluation and management  Hospital inpatient services         NaN  \n",
       "2                   Medicine                     Dialysis         NaN  \n",
       "3  Evaluation and management  Hospital inpatient services         NaN  \n",
       "4  Evaluation and management                Consultations         NaN  "
      ]
     },
     "execution_count": 8,
     "metadata": {},
     "output_type": "execute_result"
    }
   ],
   "source": [
    "print('\\nFirst five rows of the CPT events table')\n",
    "cpt.head(5)"
   ]
  },
  {
   "cell_type": "code",
   "execution_count": 9,
   "id": "25685c58",
   "metadata": {},
   "outputs": [
    {
     "data": {
      "text/plain": [
       "(1579, 9)"
      ]
     },
     "execution_count": 9,
     "metadata": {},
     "output_type": "execute_result"
    }
   ],
   "source": [
    "cpt.shape"
   ]
  },
  {
   "cell_type": "code",
   "execution_count": 10,
   "id": "462f8a33",
   "metadata": {},
   "outputs": [
    {
     "name": "stdout",
     "output_type": "stream",
     "text": [
      "\n",
      "First five rows of the ICU stays table\n"
     ]
    },
    {
     "data": {
      "text/html": [
       "<div>\n",
       "<style scoped>\n",
       "    .dataframe tbody tr th:only-of-type {\n",
       "        vertical-align: middle;\n",
       "    }\n",
       "\n",
       "    .dataframe tbody tr th {\n",
       "        vertical-align: top;\n",
       "    }\n",
       "\n",
       "    .dataframe thead th {\n",
       "        text-align: right;\n",
       "    }\n",
       "</style>\n",
       "<table border=\"1\" class=\"dataframe\">\n",
       "  <thead>\n",
       "    <tr style=\"text-align: right;\">\n",
       "      <th></th>\n",
       "      <th>row_id</th>\n",
       "      <th>subject_id</th>\n",
       "      <th>hadm_id</th>\n",
       "      <th>icustay_id</th>\n",
       "      <th>first_careunit</th>\n",
       "      <th>last_careunit</th>\n",
       "      <th>first_wardid</th>\n",
       "      <th>last_wardid</th>\n",
       "      <th>intime</th>\n",
       "      <th>outtime</th>\n",
       "      <th>los</th>\n",
       "    </tr>\n",
       "  </thead>\n",
       "  <tbody>\n",
       "    <tr>\n",
       "      <th>0</th>\n",
       "      <td>12742</td>\n",
       "      <td>10006</td>\n",
       "      <td>142345</td>\n",
       "      <td>206504</td>\n",
       "      <td>MICU</td>\n",
       "      <td>MICU</td>\n",
       "      <td>52</td>\n",
       "      <td>52</td>\n",
       "      <td>2164-10-23 21:10:15</td>\n",
       "      <td>2164-10-25 12:21:07</td>\n",
       "      <td>1.6325</td>\n",
       "    </tr>\n",
       "    <tr>\n",
       "      <th>1</th>\n",
       "      <td>12747</td>\n",
       "      <td>10011</td>\n",
       "      <td>105331</td>\n",
       "      <td>232110</td>\n",
       "      <td>MICU</td>\n",
       "      <td>MICU</td>\n",
       "      <td>15</td>\n",
       "      <td>15</td>\n",
       "      <td>2126-08-14 22:34:00</td>\n",
       "      <td>2126-08-28 18:59:00</td>\n",
       "      <td>13.8507</td>\n",
       "    </tr>\n",
       "    <tr>\n",
       "      <th>2</th>\n",
       "      <td>12749</td>\n",
       "      <td>10013</td>\n",
       "      <td>165520</td>\n",
       "      <td>264446</td>\n",
       "      <td>MICU</td>\n",
       "      <td>MICU</td>\n",
       "      <td>15</td>\n",
       "      <td>15</td>\n",
       "      <td>2125-10-04 23:38:00</td>\n",
       "      <td>2125-10-07 15:13:52</td>\n",
       "      <td>2.6499</td>\n",
       "    </tr>\n",
       "    <tr>\n",
       "      <th>3</th>\n",
       "      <td>12754</td>\n",
       "      <td>10017</td>\n",
       "      <td>199207</td>\n",
       "      <td>204881</td>\n",
       "      <td>CCU</td>\n",
       "      <td>CCU</td>\n",
       "      <td>7</td>\n",
       "      <td>7</td>\n",
       "      <td>2149-05-29 18:52:29</td>\n",
       "      <td>2149-05-31 22:19:17</td>\n",
       "      <td>2.1436</td>\n",
       "    </tr>\n",
       "    <tr>\n",
       "      <th>4</th>\n",
       "      <td>12755</td>\n",
       "      <td>10019</td>\n",
       "      <td>177759</td>\n",
       "      <td>228977</td>\n",
       "      <td>MICU</td>\n",
       "      <td>MICU</td>\n",
       "      <td>15</td>\n",
       "      <td>15</td>\n",
       "      <td>2163-05-14 20:43:56</td>\n",
       "      <td>2163-05-16 3:47:04</td>\n",
       "      <td>1.2938</td>\n",
       "    </tr>\n",
       "  </tbody>\n",
       "</table>\n",
       "</div>"
      ],
      "text/plain": [
       "   row_id  subject_id  hadm_id  icustay_id first_careunit last_careunit  \\\n",
       "0   12742       10006   142345      206504           MICU          MICU   \n",
       "1   12747       10011   105331      232110           MICU          MICU   \n",
       "2   12749       10013   165520      264446           MICU          MICU   \n",
       "3   12754       10017   199207      204881            CCU           CCU   \n",
       "4   12755       10019   177759      228977           MICU          MICU   \n",
       "\n",
       "   first_wardid  last_wardid               intime              outtime  \\\n",
       "0            52           52  2164-10-23 21:10:15  2164-10-25 12:21:07   \n",
       "1            15           15  2126-08-14 22:34:00  2126-08-28 18:59:00   \n",
       "2            15           15  2125-10-04 23:38:00  2125-10-07 15:13:52   \n",
       "3             7            7  2149-05-29 18:52:29  2149-05-31 22:19:17   \n",
       "4            15           15  2163-05-14 20:43:56   2163-05-16 3:47:04   \n",
       "\n",
       "       los  \n",
       "0   1.6325  \n",
       "1  13.8507  \n",
       "2   2.6499  \n",
       "3   2.1436  \n",
       "4   1.2938  "
      ]
     },
     "execution_count": 10,
     "metadata": {},
     "output_type": "execute_result"
    }
   ],
   "source": [
    "print('\\nFirst five rows of the ICU stays table')\n",
    "icu.head(5)"
   ]
  },
  {
   "cell_type": "code",
   "execution_count": 11,
   "id": "5af09f6d",
   "metadata": {},
   "outputs": [
    {
     "data": {
      "text/plain": [
       "(136, 11)"
      ]
     },
     "execution_count": 11,
     "metadata": {},
     "output_type": "execute_result"
    }
   ],
   "source": [
    "icu.shape"
   ]
  },
  {
   "cell_type": "code",
   "execution_count": 12,
   "id": "7ba5f449",
   "metadata": {},
   "outputs": [
    {
     "name": "stdout",
     "output_type": "stream",
     "text": [
      "<class 'pandas.core.frame.DataFrame'>\n",
      "RangeIndex: 100 entries, 0 to 99\n",
      "Data columns (total 4 columns):\n",
      " #   Column      Non-Null Count  Dtype \n",
      "---  ------      --------------  ----- \n",
      " 0   row_id      100 non-null    int64 \n",
      " 1   subject_id  100 non-null    int64 \n",
      " 2   gender      100 non-null    object\n",
      " 3   dob         100 non-null    object\n",
      "dtypes: int64(2), object(2)\n",
      "memory usage: 3.2+ KB\n"
     ]
    }
   ],
   "source": [
    "#Getting the overview of the dataset structure\n",
    "patients.info()"
   ]
  },
  {
   "cell_type": "code",
   "execution_count": 13,
   "id": "f209403e",
   "metadata": {},
   "outputs": [
    {
     "name": "stdout",
     "output_type": "stream",
     "text": [
      "<class 'pandas.core.frame.DataFrame'>\n",
      "RangeIndex: 129 entries, 0 to 128\n",
      "Data columns (total 17 columns):\n",
      " #   Column                Non-Null Count  Dtype \n",
      "---  ------                --------------  ----- \n",
      " 0   row_id                129 non-null    int64 \n",
      " 1   subject_id            129 non-null    int64 \n",
      " 2   hadm_id               129 non-null    int64 \n",
      " 3   admittime             129 non-null    object\n",
      " 4   dischtime             129 non-null    object\n",
      " 5   deathtime             40 non-null     object\n",
      " 6   admission_type        129 non-null    object\n",
      " 7   admission_location    129 non-null    object\n",
      " 8   insurance             129 non-null    object\n",
      " 9   language              81 non-null     object\n",
      " 10  religion              128 non-null    object\n",
      " 11  marital_status        113 non-null    object\n",
      " 12  ethnicity             129 non-null    object\n",
      " 13  edregtime             92 non-null     object\n",
      " 14  edouttime             92 non-null     object\n",
      " 15  diagnosis             129 non-null    object\n",
      " 16  hospital_expire_flag  129 non-null    int64 \n",
      "dtypes: int64(4), object(13)\n",
      "memory usage: 17.3+ KB\n"
     ]
    }
   ],
   "source": [
    "admissions.info()"
   ]
  },
  {
   "cell_type": "code",
   "execution_count": 14,
   "id": "1e2dfc24",
   "metadata": {},
   "outputs": [
    {
     "name": "stdout",
     "output_type": "stream",
     "text": [
      "<class 'pandas.core.frame.DataFrame'>\n",
      "RangeIndex: 1579 entries, 0 to 1578\n",
      "Data columns (total 9 columns):\n",
      " #   Column            Non-Null Count  Dtype \n",
      "---  ------            --------------  ----- \n",
      " 0   row_id            1579 non-null   int64 \n",
      " 1   subject_id        1579 non-null   int64 \n",
      " 2   hadm_id           1579 non-null   int64 \n",
      " 3   costcenter        1579 non-null   object\n",
      " 4   chartdate         291 non-null    object\n",
      " 5   cpt_cd            1579 non-null   int64 \n",
      " 6   sectionheader     1579 non-null   object\n",
      " 7   subsectionheader  1579 non-null   object\n",
      " 8   description       291 non-null    object\n",
      "dtypes: int64(4), object(5)\n",
      "memory usage: 111.1+ KB\n"
     ]
    }
   ],
   "source": [
    "cpt.info()"
   ]
  },
  {
   "cell_type": "code",
   "execution_count": 16,
   "id": "4fb287b9",
   "metadata": {},
   "outputs": [
    {
     "name": "stdout",
     "output_type": "stream",
     "text": [
      "<class 'pandas.core.frame.DataFrame'>\n",
      "RangeIndex: 136 entries, 0 to 135\n",
      "Data columns (total 11 columns):\n",
      " #   Column          Non-Null Count  Dtype  \n",
      "---  ------          --------------  -----  \n",
      " 0   row_id          136 non-null    int64  \n",
      " 1   subject_id      136 non-null    int64  \n",
      " 2   hadm_id         136 non-null    int64  \n",
      " 3   icustay_id      136 non-null    int64  \n",
      " 4   first_careunit  136 non-null    object \n",
      " 5   last_careunit   136 non-null    object \n",
      " 6   first_wardid    136 non-null    int64  \n",
      " 7   last_wardid     136 non-null    int64  \n",
      " 8   intime          136 non-null    object \n",
      " 9   outtime         136 non-null    object \n",
      " 10  los             136 non-null    float64\n",
      "dtypes: float64(1), int64(6), object(4)\n",
      "memory usage: 11.8+ KB\n"
     ]
    }
   ],
   "source": [
    "icu.info()"
   ]
  },
  {
   "cell_type": "code",
   "execution_count": 17,
   "id": "5d36b333",
   "metadata": {},
   "outputs": [
    {
     "data": {
      "text/html": [
       "<div>\n",
       "<style scoped>\n",
       "    .dataframe tbody tr th:only-of-type {\n",
       "        vertical-align: middle;\n",
       "    }\n",
       "\n",
       "    .dataframe tbody tr th {\n",
       "        vertical-align: top;\n",
       "    }\n",
       "\n",
       "    .dataframe thead th {\n",
       "        text-align: right;\n",
       "    }\n",
       "</style>\n",
       "<table border=\"1\" class=\"dataframe\">\n",
       "  <thead>\n",
       "    <tr style=\"text-align: right;\">\n",
       "      <th></th>\n",
       "      <th>row_id</th>\n",
       "      <th>subject_id</th>\n",
       "    </tr>\n",
       "  </thead>\n",
       "  <tbody>\n",
       "    <tr>\n",
       "      <th>count</th>\n",
       "      <td>100.000000</td>\n",
       "      <td>100.000000</td>\n",
       "    </tr>\n",
       "    <tr>\n",
       "      <th>mean</th>\n",
       "      <td>20452.580000</td>\n",
       "      <td>26162.330000</td>\n",
       "    </tr>\n",
       "    <tr>\n",
       "      <th>std</th>\n",
       "      <td>10982.043163</td>\n",
       "      <td>16201.834705</td>\n",
       "    </tr>\n",
       "    <tr>\n",
       "      <th>min</th>\n",
       "      <td>9467.000000</td>\n",
       "      <td>10006.000000</td>\n",
       "    </tr>\n",
       "    <tr>\n",
       "      <th>25%</th>\n",
       "      <td>9526.500000</td>\n",
       "      <td>10068.500000</td>\n",
       "    </tr>\n",
       "    <tr>\n",
       "      <th>50%</th>\n",
       "      <td>20209.000000</td>\n",
       "      <td>25128.000000</td>\n",
       "    </tr>\n",
       "    <tr>\n",
       "      <th>75%</th>\n",
       "      <td>31391.250000</td>\n",
       "      <td>42276.500000</td>\n",
       "    </tr>\n",
       "    <tr>\n",
       "      <th>max</th>\n",
       "      <td>31872.000000</td>\n",
       "      <td>44228.000000</td>\n",
       "    </tr>\n",
       "  </tbody>\n",
       "</table>\n",
       "</div>"
      ],
      "text/plain": [
       "             row_id    subject_id\n",
       "count    100.000000    100.000000\n",
       "mean   20452.580000  26162.330000\n",
       "std    10982.043163  16201.834705\n",
       "min     9467.000000  10006.000000\n",
       "25%     9526.500000  10068.500000\n",
       "50%    20209.000000  25128.000000\n",
       "75%    31391.250000  42276.500000\n",
       "max    31872.000000  44228.000000"
      ]
     },
     "execution_count": 17,
     "metadata": {},
     "output_type": "execute_result"
    }
   ],
   "source": [
    "#Checking the summary of numerical columns in patients table\n",
    "patients.describe()"
   ]
  },
  {
   "cell_type": "code",
   "execution_count": 18,
   "id": "87d038cd",
   "metadata": {},
   "outputs": [
    {
     "data": {
      "text/html": [
       "<div>\n",
       "<style scoped>\n",
       "    .dataframe tbody tr th:only-of-type {\n",
       "        vertical-align: middle;\n",
       "    }\n",
       "\n",
       "    .dataframe tbody tr th {\n",
       "        vertical-align: top;\n",
       "    }\n",
       "\n",
       "    .dataframe thead th {\n",
       "        text-align: right;\n",
       "    }\n",
       "</style>\n",
       "<table border=\"1\" class=\"dataframe\">\n",
       "  <thead>\n",
       "    <tr style=\"text-align: right;\">\n",
       "      <th></th>\n",
       "      <th>row_id</th>\n",
       "      <th>subject_id</th>\n",
       "      <th>hadm_id</th>\n",
       "      <th>hospital_expire_flag</th>\n",
       "    </tr>\n",
       "  </thead>\n",
       "  <tbody>\n",
       "    <tr>\n",
       "      <th>count</th>\n",
       "      <td>129.000000</td>\n",
       "      <td>129.000000</td>\n",
       "      <td>129.000000</td>\n",
       "      <td>129.000000</td>\n",
       "    </tr>\n",
       "    <tr>\n",
       "      <th>mean</th>\n",
       "      <td>28036.441860</td>\n",
       "      <td>28010.410853</td>\n",
       "      <td>152343.441860</td>\n",
       "      <td>0.310078</td>\n",
       "    </tr>\n",
       "    <tr>\n",
       "      <th>std</th>\n",
       "      <td>14036.548988</td>\n",
       "      <td>16048.502883</td>\n",
       "      <td>27858.788248</td>\n",
       "      <td>0.464328</td>\n",
       "    </tr>\n",
       "    <tr>\n",
       "      <th>min</th>\n",
       "      <td>12258.000000</td>\n",
       "      <td>10006.000000</td>\n",
       "      <td>100375.000000</td>\n",
       "      <td>0.000000</td>\n",
       "    </tr>\n",
       "    <tr>\n",
       "      <th>25%</th>\n",
       "      <td>12339.000000</td>\n",
       "      <td>10088.000000</td>\n",
       "      <td>128293.000000</td>\n",
       "      <td>0.000000</td>\n",
       "    </tr>\n",
       "    <tr>\n",
       "      <th>50%</th>\n",
       "      <td>39869.000000</td>\n",
       "      <td>40310.000000</td>\n",
       "      <td>157235.000000</td>\n",
       "      <td>0.000000</td>\n",
       "    </tr>\n",
       "    <tr>\n",
       "      <th>75%</th>\n",
       "      <td>40463.000000</td>\n",
       "      <td>42135.000000</td>\n",
       "      <td>174739.000000</td>\n",
       "      <td>1.000000</td>\n",
       "    </tr>\n",
       "    <tr>\n",
       "      <th>max</th>\n",
       "      <td>41092.000000</td>\n",
       "      <td>44228.000000</td>\n",
       "      <td>199395.000000</td>\n",
       "      <td>1.000000</td>\n",
       "    </tr>\n",
       "  </tbody>\n",
       "</table>\n",
       "</div>"
      ],
      "text/plain": [
       "             row_id    subject_id        hadm_id  hospital_expire_flag\n",
       "count    129.000000    129.000000     129.000000            129.000000\n",
       "mean   28036.441860  28010.410853  152343.441860              0.310078\n",
       "std    14036.548988  16048.502883   27858.788248              0.464328\n",
       "min    12258.000000  10006.000000  100375.000000              0.000000\n",
       "25%    12339.000000  10088.000000  128293.000000              0.000000\n",
       "50%    39869.000000  40310.000000  157235.000000              0.000000\n",
       "75%    40463.000000  42135.000000  174739.000000              1.000000\n",
       "max    41092.000000  44228.000000  199395.000000              1.000000"
      ]
     },
     "execution_count": 18,
     "metadata": {},
     "output_type": "execute_result"
    }
   ],
   "source": [
    "#Checking the summary of numerical columns in admissions table\n",
    "admissions.describe()"
   ]
  },
  {
   "cell_type": "code",
   "execution_count": 19,
   "id": "299adf6f",
   "metadata": {},
   "outputs": [
    {
     "data": {
      "text/html": [
       "<div>\n",
       "<style scoped>\n",
       "    .dataframe tbody tr th:only-of-type {\n",
       "        vertical-align: middle;\n",
       "    }\n",
       "\n",
       "    .dataframe tbody tr th {\n",
       "        vertical-align: top;\n",
       "    }\n",
       "\n",
       "    .dataframe thead th {\n",
       "        text-align: right;\n",
       "    }\n",
       "</style>\n",
       "<table border=\"1\" class=\"dataframe\">\n",
       "  <thead>\n",
       "    <tr style=\"text-align: right;\">\n",
       "      <th></th>\n",
       "      <th>row_id</th>\n",
       "      <th>subject_id</th>\n",
       "      <th>hadm_id</th>\n",
       "      <th>cpt_cd</th>\n",
       "    </tr>\n",
       "  </thead>\n",
       "  <tbody>\n",
       "    <tr>\n",
       "      <th>count</th>\n",
       "      <td>1579.000000</td>\n",
       "      <td>1579.000000</td>\n",
       "      <td>1579.000000</td>\n",
       "      <td>1579.000000</td>\n",
       "    </tr>\n",
       "    <tr>\n",
       "      <th>mean</th>\n",
       "      <td>254352.809373</td>\n",
       "      <td>30132.860038</td>\n",
       "      <td>157868.511083</td>\n",
       "      <td>94952.146928</td>\n",
       "    </tr>\n",
       "    <tr>\n",
       "      <th>std</th>\n",
       "      <td>152033.453716</td>\n",
       "      <td>15398.361505</td>\n",
       "      <td>27904.711248</td>\n",
       "      <td>13529.257441</td>\n",
       "    </tr>\n",
       "    <tr>\n",
       "      <th>min</th>\n",
       "      <td>4615.000000</td>\n",
       "      <td>10006.000000</td>\n",
       "      <td>100375.000000</td>\n",
       "      <td>11043.000000</td>\n",
       "    </tr>\n",
       "    <tr>\n",
       "      <th>25%</th>\n",
       "      <td>136183.500000</td>\n",
       "      <td>10120.000000</td>\n",
       "      <td>138132.000000</td>\n",
       "      <td>94003.000000</td>\n",
       "    </tr>\n",
       "    <tr>\n",
       "      <th>50%</th>\n",
       "      <td>238558.000000</td>\n",
       "      <td>40310.000000</td>\n",
       "      <td>163189.000000</td>\n",
       "      <td>99232.000000</td>\n",
       "    </tr>\n",
       "    <tr>\n",
       "      <th>75%</th>\n",
       "      <td>275015.500000</td>\n",
       "      <td>42135.000000</td>\n",
       "      <td>182839.000000</td>\n",
       "      <td>99253.000000</td>\n",
       "    </tr>\n",
       "    <tr>\n",
       "      <th>max</th>\n",
       "      <td>543399.000000</td>\n",
       "      <td>44228.000000</td>\n",
       "      <td>199395.000000</td>\n",
       "      <td>99367.000000</td>\n",
       "    </tr>\n",
       "  </tbody>\n",
       "</table>\n",
       "</div>"
      ],
      "text/plain": [
       "              row_id    subject_id        hadm_id        cpt_cd\n",
       "count    1579.000000   1579.000000    1579.000000   1579.000000\n",
       "mean   254352.809373  30132.860038  157868.511083  94952.146928\n",
       "std    152033.453716  15398.361505   27904.711248  13529.257441\n",
       "min      4615.000000  10006.000000  100375.000000  11043.000000\n",
       "25%    136183.500000  10120.000000  138132.000000  94003.000000\n",
       "50%    238558.000000  40310.000000  163189.000000  99232.000000\n",
       "75%    275015.500000  42135.000000  182839.000000  99253.000000\n",
       "max    543399.000000  44228.000000  199395.000000  99367.000000"
      ]
     },
     "execution_count": 19,
     "metadata": {},
     "output_type": "execute_result"
    }
   ],
   "source": [
    "#Checking the summary of numerical columns in cpt table\n",
    "cpt.describe()"
   ]
  },
  {
   "cell_type": "code",
   "execution_count": 20,
   "id": "480ed239",
   "metadata": {},
   "outputs": [
    {
     "data": {
      "text/html": [
       "<div>\n",
       "<style scoped>\n",
       "    .dataframe tbody tr th:only-of-type {\n",
       "        vertical-align: middle;\n",
       "    }\n",
       "\n",
       "    .dataframe tbody tr th {\n",
       "        vertical-align: top;\n",
       "    }\n",
       "\n",
       "    .dataframe thead th {\n",
       "        text-align: right;\n",
       "    }\n",
       "</style>\n",
       "<table border=\"1\" class=\"dataframe\">\n",
       "  <thead>\n",
       "    <tr style=\"text-align: right;\">\n",
       "      <th></th>\n",
       "      <th>row_id</th>\n",
       "      <th>subject_id</th>\n",
       "      <th>hadm_id</th>\n",
       "      <th>icustay_id</th>\n",
       "      <th>first_wardid</th>\n",
       "      <th>last_wardid</th>\n",
       "      <th>los</th>\n",
       "    </tr>\n",
       "  </thead>\n",
       "  <tbody>\n",
       "    <tr>\n",
       "      <th>count</th>\n",
       "      <td>136.000000</td>\n",
       "      <td>136.000000</td>\n",
       "      <td>136.000000</td>\n",
       "      <td>136.000000</td>\n",
       "      <td>136.000000</td>\n",
       "      <td>136.000000</td>\n",
       "      <td>136.000000</td>\n",
       "    </tr>\n",
       "    <tr>\n",
       "      <th>mean</th>\n",
       "      <td>29370.316176</td>\n",
       "      <td>28263.485294</td>\n",
       "      <td>153259.566176</td>\n",
       "      <td>250980.470588</td>\n",
       "      <td>34.470588</td>\n",
       "      <td>34.022059</td>\n",
       "      <td>4.452457</td>\n",
       "    </tr>\n",
       "    <tr>\n",
       "      <th>std</th>\n",
       "      <td>14550.435239</td>\n",
       "      <td>16008.281510</td>\n",
       "      <td>28054.220280</td>\n",
       "      <td>28455.125832</td>\n",
       "      <td>18.876182</td>\n",
       "      <td>19.280951</td>\n",
       "      <td>6.196828</td>\n",
       "    </tr>\n",
       "    <tr>\n",
       "      <th>min</th>\n",
       "      <td>12742.000000</td>\n",
       "      <td>10006.000000</td>\n",
       "      <td>100375.000000</td>\n",
       "      <td>201006.000000</td>\n",
       "      <td>7.000000</td>\n",
       "      <td>7.000000</td>\n",
       "      <td>0.105900</td>\n",
       "    </tr>\n",
       "    <tr>\n",
       "      <th>25%</th>\n",
       "      <td>12826.750000</td>\n",
       "      <td>10089.750000</td>\n",
       "      <td>129028.000000</td>\n",
       "      <td>224359.250000</td>\n",
       "      <td>14.750000</td>\n",
       "      <td>14.000000</td>\n",
       "      <td>1.233525</td>\n",
       "    </tr>\n",
       "    <tr>\n",
       "      <th>50%</th>\n",
       "      <td>41427.000000</td>\n",
       "      <td>40307.000000</td>\n",
       "      <td>157724.000000</td>\n",
       "      <td>250055.000000</td>\n",
       "      <td>33.000000</td>\n",
       "      <td>33.000000</td>\n",
       "      <td>2.111450</td>\n",
       "    </tr>\n",
       "    <tr>\n",
       "      <th>75%</th>\n",
       "      <td>42073.750000</td>\n",
       "      <td>42207.000000</td>\n",
       "      <td>174896.500000</td>\n",
       "      <td>277279.250000</td>\n",
       "      <td>52.000000</td>\n",
       "      <td>52.000000</td>\n",
       "      <td>4.329050</td>\n",
       "    </tr>\n",
       "    <tr>\n",
       "      <th>max</th>\n",
       "      <td>42714.000000</td>\n",
       "      <td>44228.000000</td>\n",
       "      <td>199395.000000</td>\n",
       "      <td>298685.000000</td>\n",
       "      <td>57.000000</td>\n",
       "      <td>57.000000</td>\n",
       "      <td>35.406500</td>\n",
       "    </tr>\n",
       "  </tbody>\n",
       "</table>\n",
       "</div>"
      ],
      "text/plain": [
       "             row_id    subject_id        hadm_id     icustay_id  first_wardid  \\\n",
       "count    136.000000    136.000000     136.000000     136.000000    136.000000   \n",
       "mean   29370.316176  28263.485294  153259.566176  250980.470588     34.470588   \n",
       "std    14550.435239  16008.281510   28054.220280   28455.125832     18.876182   \n",
       "min    12742.000000  10006.000000  100375.000000  201006.000000      7.000000   \n",
       "25%    12826.750000  10089.750000  129028.000000  224359.250000     14.750000   \n",
       "50%    41427.000000  40307.000000  157724.000000  250055.000000     33.000000   \n",
       "75%    42073.750000  42207.000000  174896.500000  277279.250000     52.000000   \n",
       "max    42714.000000  44228.000000  199395.000000  298685.000000     57.000000   \n",
       "\n",
       "       last_wardid         los  \n",
       "count   136.000000  136.000000  \n",
       "mean     34.022059    4.452457  \n",
       "std      19.280951    6.196828  \n",
       "min       7.000000    0.105900  \n",
       "25%      14.000000    1.233525  \n",
       "50%      33.000000    2.111450  \n",
       "75%      52.000000    4.329050  \n",
       "max      57.000000   35.406500  "
      ]
     },
     "execution_count": 20,
     "metadata": {},
     "output_type": "execute_result"
    }
   ],
   "source": [
    "#Checking the summary of numerical columns in icu table\n",
    "icu.describe()"
   ]
  },
  {
   "cell_type": "code",
   "execution_count": 21,
   "id": "73d36f81",
   "metadata": {},
   "outputs": [
    {
     "name": "stdout",
     "output_type": "stream",
     "text": [
      "\n",
      "Unique values of categorical columns in patients table\n"
     ]
    },
    {
     "data": {
      "text/plain": [
       "gender     2\n",
       "dob       99\n",
       "dtype: int64"
      ]
     },
     "execution_count": 21,
     "metadata": {},
     "output_type": "execute_result"
    }
   ],
   "source": [
    "#Unique values and it's count unique of all columns\n",
    "print('\\nUnique values of categorical columns in patients table')\n",
    "(patients.select_dtypes(include='object')).nunique()"
   ]
  },
  {
   "cell_type": "code",
   "execution_count": 22,
   "id": "c8aa325c",
   "metadata": {},
   "outputs": [
    {
     "name": "stdout",
     "output_type": "stream",
     "text": [
      "\n",
      "Unique values of categorical columns in admissions table\n"
     ]
    },
    {
     "data": {
      "text/plain": [
       "admittime             129\n",
       "dischtime             129\n",
       "deathtime              40\n",
       "admission_type          3\n",
       "admission_location      5\n",
       "insurance               4\n",
       "language                5\n",
       "religion               10\n",
       "marital_status          6\n",
       "ethnicity               9\n",
       "edregtime              92\n",
       "edouttime              92\n",
       "diagnosis              95\n",
       "dtype: int64"
      ]
     },
     "execution_count": 22,
     "metadata": {},
     "output_type": "execute_result"
    }
   ],
   "source": [
    "print('\\nUnique values of categorical columns in admissions table')\n",
    "(admissions.select_dtypes(include='object')).nunique()"
   ]
  },
  {
   "cell_type": "code",
   "execution_count": 23,
   "id": "de8bc106",
   "metadata": {},
   "outputs": [
    {
     "name": "stdout",
     "output_type": "stream",
     "text": [
      "\n",
      "Unique values of categorical columns in cpt table\n"
     ]
    },
    {
     "data": {
      "text/plain": [
       "costcenter            2\n",
       "chartdate           284\n",
       "sectionheader         4\n",
       "subsectionheader     21\n",
       "description           4\n",
       "dtype: int64"
      ]
     },
     "execution_count": 23,
     "metadata": {},
     "output_type": "execute_result"
    }
   ],
   "source": [
    "print('\\nUnique values of categorical columns in cpt table')\n",
    "(cpt.select_dtypes(include='object')).nunique()"
   ]
  },
  {
   "cell_type": "code",
   "execution_count": 24,
   "id": "63d35b9e",
   "metadata": {},
   "outputs": [
    {
     "name": "stdout",
     "output_type": "stream",
     "text": [
      "\n",
      "Unique values of categorical columns in icu table\n"
     ]
    },
    {
     "data": {
      "text/plain": [
       "first_careunit      5\n",
       "last_careunit       5\n",
       "intime            136\n",
       "outtime           136\n",
       "dtype: int64"
      ]
     },
     "execution_count": 24,
     "metadata": {},
     "output_type": "execute_result"
    }
   ],
   "source": [
    "print('\\nUnique values of categorical columns in icu table')\n",
    "(icu.select_dtypes(include='object')).nunique()"
   ]
  },
  {
   "cell_type": "markdown",
   "id": "08402159",
   "metadata": {},
   "source": [
    "## Data processing"
   ]
  },
  {
   "cell_type": "code",
   "execution_count": 25,
   "id": "54e9e814",
   "metadata": {},
   "outputs": [
    {
     "data": {
      "text/plain": [
       "row_id        0\n",
       "subject_id    0\n",
       "gender        0\n",
       "dob           0\n",
       "dtype: int64"
      ]
     },
     "execution_count": 25,
     "metadata": {},
     "output_type": "execute_result"
    }
   ],
   "source": [
    "#Checking for missing values\n",
    "patients.isna().sum()"
   ]
  },
  {
   "cell_type": "code",
   "execution_count": 41,
   "id": "857b5352",
   "metadata": {},
   "outputs": [
    {
     "data": {
      "text/plain": [
       "row_id                   0\n",
       "subject_id               0\n",
       "hadm_id                  0\n",
       "admittime                0\n",
       "dischtime                0\n",
       "deathtime               89\n",
       "admission_type           0\n",
       "admission_location       0\n",
       "insurance                0\n",
       "language                48\n",
       "religion                 1\n",
       "marital_status          16\n",
       "ethnicity                0\n",
       "edregtime               37\n",
       "edouttime               37\n",
       "diagnosis                0\n",
       "hospital_expire_flag     0\n",
       "dtype: int64"
      ]
     },
     "execution_count": 41,
     "metadata": {},
     "output_type": "execute_result"
    }
   ],
   "source": [
    "admissions.isna().sum()"
   ]
  },
  {
   "cell_type": "code",
   "execution_count": 48,
   "id": "9e50f7fd",
   "metadata": {},
   "outputs": [
    {
     "data": {
      "text/plain": [
       "row_id                   0\n",
       "subject_id               0\n",
       "hadm_id                  0\n",
       "admittime                0\n",
       "dischtime                0\n",
       "deathtime               89\n",
       "admission_type           0\n",
       "admission_location       0\n",
       "insurance                0\n",
       "language                 0\n",
       "religion                 0\n",
       "marital_status           0\n",
       "ethnicity                0\n",
       "edregtime               37\n",
       "edouttime               37\n",
       "diagnosis                0\n",
       "hospital_expire_flag     0\n",
       "dtype: int64"
      ]
     },
     "execution_count": 48,
     "metadata": {},
     "output_type": "execute_result"
    }
   ],
   "source": [
    "imp = SimpleImputer(strategy='most_frequent')\n",
    "missing_cols = ['language', 'religion', 'marital_status']\n",
    "for column in missing_cols:\n",
    "    admissions[column] = pd.DataFrame(imp.fit_transform(pd.DataFrame(admissions[column])))\n",
    "admissions.isna().sum()"
   ]
  },
  {
   "cell_type": "code",
   "execution_count": 43,
   "id": "7191940d",
   "metadata": {},
   "outputs": [
    {
     "data": {
      "text/plain": [
       "row_id            0\n",
       "subject_id        0\n",
       "hadm_id           0\n",
       "icustay_id        0\n",
       "first_careunit    0\n",
       "last_careunit     0\n",
       "first_wardid      0\n",
       "last_wardid       0\n",
       "intime            0\n",
       "outtime           0\n",
       "los               0\n",
       "dtype: int64"
      ]
     },
     "execution_count": 43,
     "metadata": {},
     "output_type": "execute_result"
    }
   ],
   "source": [
    "icu.isna().sum()"
   ]
  },
  {
   "cell_type": "code",
   "execution_count": 42,
   "id": "f8ec47be",
   "metadata": {},
   "outputs": [
    {
     "data": {
      "text/plain": [
       "row_id                 0\n",
       "subject_id             0\n",
       "hadm_id                0\n",
       "costcenter             0\n",
       "chartdate           1288\n",
       "cpt_cd                 0\n",
       "sectionheader          0\n",
       "subsectionheader       0\n",
       "description         1288\n",
       "dtype: int64"
      ]
     },
     "execution_count": 42,
     "metadata": {},
     "output_type": "execute_result"
    }
   ],
   "source": [
    "cpt.isna().sum()"
   ]
  },
  {
   "cell_type": "code",
   "execution_count": null,
   "id": "09a7d193",
   "metadata": {},
   "outputs": [],
   "source": []
  },
  {
   "cell_type": "code",
   "execution_count": null,
   "id": "a7218957",
   "metadata": {},
   "outputs": [],
   "source": []
  }
 ],
 "metadata": {
  "kernelspec": {
   "display_name": "Python 3 (ipykernel)",
   "language": "python",
   "name": "python3"
  },
  "language_info": {
   "codemirror_mode": {
    "name": "ipython",
    "version": 3
   },
   "file_extension": ".py",
   "mimetype": "text/x-python",
   "name": "python",
   "nbconvert_exporter": "python",
   "pygments_lexer": "ipython3",
   "version": "3.9.13"
  }
 },
 "nbformat": 4,
 "nbformat_minor": 5
}
